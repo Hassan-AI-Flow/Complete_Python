{
  "nbformat": 4,
  "nbformat_minor": 0,
  "metadata": {
    "colab": {
      "provenance": [],
      "authorship_tag": "ABX9TyMGxVaRj0nLVM0reGwKp1f2",
      "include_colab_link": true
    },
    "kernelspec": {
      "name": "python3",
      "display_name": "Python 3"
    },
    "language_info": {
      "name": "python"
    }
  },
  "cells": [
    {
      "cell_type": "markdown",
      "metadata": {
        "id": "view-in-github",
        "colab_type": "text"
      },
      "source": [
        "<a href=\"https://colab.research.google.com/github/Hassan-AI-Flow/Complete_Python/blob/main/calculator.ipynb\" target=\"_parent\"><img src=\"https://colab.research.google.com/assets/colab-badge.svg\" alt=\"Open In Colab\"/></a>"
      ]
    },
    {
      "cell_type": "markdown",
      "source": [
        "`Calculator Assigment:`"
      ],
      "metadata": {
        "id": "bW_8KJ44wcVm"
      }
    },
    {
      "cell_type": "code",
      "execution_count": 7,
      "metadata": {
        "colab": {
          "base_uri": "https://localhost:8080/"
        },
        "id": "7xt8XelhrjKf",
        "outputId": "f8667f17-186c-4099-fed3-b8b3888aeb31"
      },
      "outputs": [
        {
          "output_type": "stream",
          "name": "stdout",
          "text": [
            "give your first number:4\n",
            "give your second number:6\n",
            "give your operator(+,-,*,/):+\n",
            "Result: 10\n"
          ]
        }
      ],
      "source": [
        "a = float(input(\"Give your first number:\"))\n",
        "b = float(input(\"give your second number:\"))\n",
        "c = input(\"give your operator(+,-,*,/):\")\n",
        "if c == \"+\":\n",
        "  print(\"Result:\" , int(a+b))\n",
        "elif c == \"-\":\n",
        "  print(\"Result:\" ,int(a-b))\n",
        "elif c == \"*\":\n",
        "  print(\"Result:\" ,int(a*b))\n",
        "elif c == \"/\":\n",
        "  print(\"Result:\" ,int(a/b))\n",
        "else:\n",
        "  print(\"Invalid operator.\")"
      ]
    },
    {
      "cell_type": "code",
      "source": [],
      "metadata": {
        "id": "aaml1JD6uDCc"
      },
      "execution_count": null,
      "outputs": []
    }
  ]
}